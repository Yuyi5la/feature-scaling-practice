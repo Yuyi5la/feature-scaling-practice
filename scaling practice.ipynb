{
 "cells": [
  {
   "cell_type": "code",
   "execution_count": 50,
   "metadata": {},
   "outputs": [],
   "source": [
    "import matplotlib.pyplot as plt\n",
    "import matplotlib as mpl\n",
    "import pandas as pd\n",
    "import seaborn as sns\n",
    "import sklearn\n",
    "import numpy as np\n",
    "from sklearn.model_selection import train_test_split\n",
    "from sklearn import linear_model"
   ]
  },
  {
   "cell_type": "code",
   "execution_count": 51,
   "metadata": {},
   "outputs": [
    {
     "name": "stdout",
     "output_type": "stream",
     "text": [
      "      price  area  bedrooms  bathrooms  stories mainroad guestroom basement  \\\n",
      "0  13300000  7420         4          2        3      yes        no       no   \n",
      "1  12250000  8960         4          4        4      yes        no       no   \n",
      "2  12250000  9960         3          2        2      yes        no      yes   \n",
      "3  12215000  7500         4          2        2      yes        no      yes   \n",
      "4  11410000  7420         4          1        2      yes       yes      yes   \n",
      "\n",
      "  hotwaterheating airconditioning  parking prefarea furnishingstatus  \n",
      "0              no             yes        2      yes        furnished  \n",
      "1              no             yes        3       no        furnished  \n",
      "2              no              no        2      yes   semi-furnished  \n",
      "3              no             yes        3      yes        furnished  \n",
      "4              no             yes        2       no        furnished  \n"
     ]
    }
   ],
   "source": [
    "df = pd.read_csv('Housing.csv')\n",
    "print(df.head())"
   ]
  },
  {
   "cell_type": "markdown",
   "metadata": {},
   "source": [
    "FEATURE SCALING "
   ]
  },
  {
   "cell_type": "code",
   "execution_count": 52,
   "metadata": {},
   "outputs": [
    {
     "name": "stdout",
     "output_type": "stream",
     "text": [
      "      price  area  bedrooms  bathrooms  stories\n",
      "0  13300000  7420         4          2        3\n",
      "1  12250000  8960         4          4        4\n",
      "2  12250000  9960         3          2        2\n",
      "3  12215000  7500         4          2        2\n",
      "4  11410000  7420         4          1        2\n"
     ]
    }
   ],
   "source": [
    "new_df = df.drop(columns=['mainroad', 'guestroom', 'basement', 'hotwaterheating', 'airconditioning', 'parking', 'prefarea', 'furnishingstatus'])\n",
    "print(new_df.head())"
   ]
  },
  {
   "cell_type": "code",
   "execution_count": 53,
   "metadata": {},
   "outputs": [
    {
     "name": "stdout",
     "output_type": "stream",
     "text": [
      "mean of columns:\n",
      "price        4.766729e+06\n",
      "area         5.150541e+03\n",
      "bedrooms     2.965138e+00\n",
      "bathrooms    1.286239e+00\n",
      "stories      1.805505e+00\n",
      "dtype: float64\n"
     ]
    }
   ],
   "source": [
    "columns_mean =new_df.mean()\n",
    "print(\"mean of columns:\")\n",
    "print(columns_mean)"
   ]
  },
  {
   "cell_type": "code",
   "execution_count": 54,
   "metadata": {},
   "outputs": [
    {
     "name": "stdout",
     "output_type": "stream",
     "text": [
      "columns maximum values:\n",
      "price        13300000\n",
      "area            16200\n",
      "bedrooms            6\n",
      "bathrooms           4\n",
      "stories             4\n",
      "dtype: int64\n",
      "\n",
      "cloumns minimum values\n",
      "price        1750000\n",
      "area            1650\n",
      "bedrooms           1\n",
      "bathrooms          1\n",
      "stories            1\n",
      "dtype: int64\n"
     ]
    }
   ],
   "source": [
    "columns_max = new_df.max()\n",
    "columns_min = new_df.min()\n",
    "print(\"columns maximum values:\")\n",
    "print(columns_max)\n",
    "\n",
    "print(\"\\ncloumns minimum values\")\n",
    "print(columns_min)"
   ]
  },
  {
   "cell_type": "markdown",
   "metadata": {},
   "source": [
    "MIN - MAX SCALING "
   ]
  },
  {
   "cell_type": "code",
   "execution_count": 55,
   "metadata": {},
   "outputs": [
    {
     "name": "stdout",
     "output_type": "stream",
     "text": [
      "      price      area  bedrooms  bathrooms   stories\n",
      "0  1.000000  0.396564       0.6   0.333333  0.666667\n",
      "1  0.909091  0.502405       0.6   1.000000  1.000000\n",
      "2  0.909091  0.571134       0.4   0.333333  0.333333\n",
      "3  0.906061  0.402062       0.6   0.333333  0.333333\n",
      "4  0.836364  0.396564       0.6   0.000000  0.333333\n"
     ]
    }
   ],
   "source": [
    "min_maxscxaled = (new_df - columns_min) / (columns_max - columns_min)\n",
    "\n",
    "\n",
    "min_max = pd.DataFrame(min_maxscxaled, columns=new_df.columns)\n",
    "print (min_max.head())"
   ]
  },
  {
   "cell_type": "code",
   "execution_count": 56,
   "metadata": {},
   "outputs": [
    {
     "name": "stdout",
     "output_type": "stream",
     "text": [
      "price        0.0\n",
      "area         0.0\n",
      "bedrooms     0.0\n",
      "bathrooms    0.0\n",
      "stories      0.0\n",
      "dtype: float64\n",
      "price        1.0\n",
      "area         1.0\n",
      "bedrooms     1.0\n",
      "bathrooms    1.0\n",
      "stories      1.0\n",
      "dtype: float64\n"
     ]
    }
   ],
   "source": [
    "print(min_max.min())  # Should be close to 0\n",
    "print(min_max.max())  # Should be close to 1\n"
   ]
  },
  {
   "cell_type": "code",
   "execution_count": 57,
   "metadata": {},
   "outputs": [
    {
     "name": "stdout",
     "output_type": "stream",
     "text": [
      "      price      area  bedrooms  bathrooms   stories\n",
      "0  1.000000  0.396564       0.6   0.333333  0.666667\n",
      "1  0.909091  0.502405       0.6   1.000000  1.000000\n",
      "2  0.909091  0.571134       0.4   0.333333  0.333333\n",
      "3  0.906061  0.402062       0.6   0.333333  0.333333\n",
      "4  0.836364  0.396564       0.6   0.000000  0.333333\n"
     ]
    }
   ],
   "source": [
    "from sklearn.preprocessing import MinMaxScaler\n",
    "# Initialize the scaler\n",
    "min_max_scaler = MinMaxScaler()\n",
    "\n",
    "# Fit and transform the data\n",
    "df_min_max_scaled = pd.DataFrame(min_max_scaler.fit_transform(new_df), columns=new_df.columns)\n",
    "\n",
    "# Display the first few rows of the scaled dataset\n",
    "print(df_min_max_scaled.head())"
   ]
  },
  {
   "cell_type": "markdown",
   "metadata": {},
   "source": [
    "MEAN NORMALIZATION"
   ]
  },
  {
   "cell_type": "code",
   "execution_count": 58,
   "metadata": {},
   "outputs": [
    {
     "name": "stdout",
     "output_type": "stream",
     "text": [
      "columns maximum values:\n",
      "price        13300000\n",
      "area            16200\n",
      "bedrooms            6\n",
      "bathrooms           4\n",
      "stories             4\n",
      "dtype: int64\n",
      "\n",
      "cloumns minimum values\n",
      "price        1750000\n",
      "area            1650\n",
      "bedrooms           1\n",
      "bathrooms          1\n",
      "stories            1\n",
      "dtype: int64\n"
     ]
    }
   ],
   "source": [
    "columns_max = new_df.max()\n",
    "columns_min = new_df.min()\n",
    "print(\"columns maximum values:\")\n",
    "print(columns_max)\n",
    "\n",
    "print(\"\\ncloumns minimum values\")\n",
    "print(columns_min)"
   ]
  },
  {
   "cell_type": "code",
   "execution_count": 59,
   "metadata": {},
   "outputs": [
    {
     "name": "stdout",
     "output_type": "stream",
     "text": [
      "        price      area  bedrooms  bathrooms   stories\n",
      "0    0.738811  0.155977  0.206972   0.237920  0.398165\n",
      "1    0.647902  0.261818  0.206972   0.904587  0.731498\n",
      "2    0.647902  0.330547  0.006972   0.237920  0.064832\n",
      "3    0.644872  0.161475  0.206972   0.237920  0.064832\n",
      "4    0.575175  0.155977  0.206972  -0.095413  0.064832\n",
      "..        ...       ...       ...        ...       ...\n",
      "540 -0.255128 -0.147804 -0.193028  -0.095413 -0.268502\n",
      "541 -0.259704 -0.189041  0.006972  -0.095413 -0.268502\n",
      "542 -0.261189 -0.105192 -0.193028  -0.095413 -0.268502\n",
      "543 -0.261189 -0.153989  0.006972  -0.095413 -0.268502\n",
      "544 -0.261189 -0.089384  0.006972  -0.095413  0.064832\n",
      "\n",
      "[545 rows x 5 columns]\n"
     ]
    }
   ],
   "source": [
    "normalized_df= (new_df - columns_mean) / (columns_max - columns_min)\n",
    "print(normalized_df)"
   ]
  },
  {
   "cell_type": "code",
   "execution_count": 60,
   "metadata": {},
   "outputs": [
    {
     "name": "stdout",
     "output_type": "stream",
     "text": [
      "      price      area  bedrooms  bathrooms   stories\n",
      "0  0.738811  0.155977  0.206972   0.237920  0.398165\n",
      "1  0.647902  0.261818  0.206972   0.904587  0.731498\n",
      "2  0.647902  0.330547  0.006972   0.237920  0.064832\n",
      "3  0.644872  0.161475  0.206972   0.237920  0.064832\n",
      "4  0.575175  0.155977  0.206972  -0.095413  0.064832\n"
     ]
    }
   ],
   "source": [
    "# Normalize the data\n",
    "normalized_data = (new_df - columns_mean) / (columns_max - columns_min)\n",
    "\n",
    "# Convert back to a DataFrame\n",
    "normalized_df = pd.DataFrame(normalized_data, columns=new_df.columns)\n",
    "\n",
    "# Print the normalized DataFrame with column names\n",
    "print(normalized_df.head())\n"
   ]
  },
  {
   "cell_type": "markdown",
   "metadata": {},
   "source": [
    "Z-SCORE NORMALIZATION"
   ]
  },
  {
   "cell_type": "code",
   "execution_count": 61,
   "metadata": {},
   "outputs": [
    {
     "name": "stdout",
     "output_type": "stream",
     "text": [
      "Z-Score Normalized Data (Manual):\n",
      "        price      area  bedrooms  bathrooms   stories\n",
      "0    4.562174  1.045766  1.402131   1.420507  1.376952\n",
      "1    4.000809  1.755397  1.402131   5.400847  2.529700\n",
      "2    4.000809  2.216196  0.047235   1.420507  0.224204\n",
      "3    3.982096  1.082630  1.402131   1.420507  0.224204\n",
      "4    3.551716  1.045766  1.402131  -0.569663  0.224204\n",
      "..        ...       ...       ...        ...       ...\n",
      "540 -1.575421 -0.990968 -1.307661  -0.569663 -0.928544\n",
      "541 -1.603676 -1.267448  0.047235  -0.569663 -0.928544\n",
      "542 -1.612845 -0.705273 -1.307661  -0.569663 -0.928544\n",
      "543 -1.612845 -1.032440  0.047235  -0.569663 -0.928544\n",
      "544 -1.612845 -0.599289  0.047235  -0.569663  0.224204\n",
      "\n",
      "[545 rows x 5 columns]\n"
     ]
    }
   ],
   "source": [
    "columns_std = new_df.std()\n",
    "\n",
    "\n",
    "z_score_normalized = (new_df - columns_mean) / columns_std\n",
    "\n",
    "print(\"Z-Score Normalized Data (Manual):\")\n",
    "print(z_score_normalized)"
   ]
  },
  {
   "cell_type": "markdown",
   "metadata": {},
   "source": [
    "CHANGING NON NUMERIC COLUMNS TO NUMERIC COLUMNS"
   ]
  },
  {
   "cell_type": "code",
   "execution_count": 62,
   "metadata": {},
   "outputs": [
    {
     "data": {
      "text/html": [
       "<div>\n",
       "<style scoped>\n",
       "    .dataframe tbody tr th:only-of-type {\n",
       "        vertical-align: middle;\n",
       "    }\n",
       "\n",
       "    .dataframe tbody tr th {\n",
       "        vertical-align: top;\n",
       "    }\n",
       "\n",
       "    .dataframe thead th {\n",
       "        text-align: right;\n",
       "    }\n",
       "</style>\n",
       "<table border=\"1\" class=\"dataframe\">\n",
       "  <thead>\n",
       "    <tr style=\"text-align: right;\">\n",
       "      <th></th>\n",
       "      <th>price</th>\n",
       "      <th>area</th>\n",
       "      <th>bedrooms</th>\n",
       "      <th>bathrooms</th>\n",
       "      <th>stories</th>\n",
       "      <th>mainroad</th>\n",
       "      <th>guestroom</th>\n",
       "      <th>basement</th>\n",
       "      <th>hotwaterheating</th>\n",
       "      <th>airconditioning</th>\n",
       "      <th>parking</th>\n",
       "      <th>prefarea</th>\n",
       "      <th>furnishingstatus</th>\n",
       "    </tr>\n",
       "  </thead>\n",
       "  <tbody>\n",
       "    <tr>\n",
       "      <th>0</th>\n",
       "      <td>13300000</td>\n",
       "      <td>7420</td>\n",
       "      <td>4</td>\n",
       "      <td>2</td>\n",
       "      <td>3</td>\n",
       "      <td>yes</td>\n",
       "      <td>no</td>\n",
       "      <td>no</td>\n",
       "      <td>no</td>\n",
       "      <td>yes</td>\n",
       "      <td>2</td>\n",
       "      <td>yes</td>\n",
       "      <td>furnished</td>\n",
       "    </tr>\n",
       "    <tr>\n",
       "      <th>1</th>\n",
       "      <td>12250000</td>\n",
       "      <td>8960</td>\n",
       "      <td>4</td>\n",
       "      <td>4</td>\n",
       "      <td>4</td>\n",
       "      <td>yes</td>\n",
       "      <td>no</td>\n",
       "      <td>no</td>\n",
       "      <td>no</td>\n",
       "      <td>yes</td>\n",
       "      <td>3</td>\n",
       "      <td>no</td>\n",
       "      <td>furnished</td>\n",
       "    </tr>\n",
       "    <tr>\n",
       "      <th>2</th>\n",
       "      <td>12250000</td>\n",
       "      <td>9960</td>\n",
       "      <td>3</td>\n",
       "      <td>2</td>\n",
       "      <td>2</td>\n",
       "      <td>yes</td>\n",
       "      <td>no</td>\n",
       "      <td>yes</td>\n",
       "      <td>no</td>\n",
       "      <td>no</td>\n",
       "      <td>2</td>\n",
       "      <td>yes</td>\n",
       "      <td>semi-furnished</td>\n",
       "    </tr>\n",
       "    <tr>\n",
       "      <th>3</th>\n",
       "      <td>12215000</td>\n",
       "      <td>7500</td>\n",
       "      <td>4</td>\n",
       "      <td>2</td>\n",
       "      <td>2</td>\n",
       "      <td>yes</td>\n",
       "      <td>no</td>\n",
       "      <td>yes</td>\n",
       "      <td>no</td>\n",
       "      <td>yes</td>\n",
       "      <td>3</td>\n",
       "      <td>yes</td>\n",
       "      <td>furnished</td>\n",
       "    </tr>\n",
       "    <tr>\n",
       "      <th>4</th>\n",
       "      <td>11410000</td>\n",
       "      <td>7420</td>\n",
       "      <td>4</td>\n",
       "      <td>1</td>\n",
       "      <td>2</td>\n",
       "      <td>yes</td>\n",
       "      <td>yes</td>\n",
       "      <td>yes</td>\n",
       "      <td>no</td>\n",
       "      <td>yes</td>\n",
       "      <td>2</td>\n",
       "      <td>no</td>\n",
       "      <td>furnished</td>\n",
       "    </tr>\n",
       "  </tbody>\n",
       "</table>\n",
       "</div>"
      ],
      "text/plain": [
       "      price  area  bedrooms  bathrooms  stories mainroad guestroom basement  \\\n",
       "0  13300000  7420         4          2        3      yes        no       no   \n",
       "1  12250000  8960         4          4        4      yes        no       no   \n",
       "2  12250000  9960         3          2        2      yes        no      yes   \n",
       "3  12215000  7500         4          2        2      yes        no      yes   \n",
       "4  11410000  7420         4          1        2      yes       yes      yes   \n",
       "\n",
       "  hotwaterheating airconditioning  parking prefarea furnishingstatus  \n",
       "0              no             yes        2      yes        furnished  \n",
       "1              no             yes        3       no        furnished  \n",
       "2              no              no        2      yes   semi-furnished  \n",
       "3              no             yes        3      yes        furnished  \n",
       "4              no             yes        2       no        furnished  "
      ]
     },
     "execution_count": 62,
     "metadata": {},
     "output_type": "execute_result"
    }
   ],
   "source": [
    "df.head()"
   ]
  },
  {
   "cell_type": "code",
   "execution_count": 63,
   "metadata": {},
   "outputs": [
    {
     "name": "stdout",
     "output_type": "stream",
     "text": [
      "      price  area  bedrooms  bathrooms  stories  mainroad  guestroom  \\\n",
      "0  13300000  7420         4          2        3         1          0   \n",
      "1  12250000  8960         4          4        4         1          0   \n",
      "2  12250000  9960         3          2        2         1          0   \n",
      "3  12215000  7500         4          2        2         1          0   \n",
      "4  11410000  7420         4          1        2         1          1   \n",
      "\n",
      "   basement  hotwaterheating  airconditioning  parking  prefarea  \\\n",
      "0         0                0                1        2         1   \n",
      "1         0                0                1        3         0   \n",
      "2         1                0                0        2         1   \n",
      "3         1                0                1        3         1   \n",
      "4         1                0                1        2         0   \n",
      "\n",
      "  furnishingstatus  \n",
      "0        furnished  \n",
      "1        furnished  \n",
      "2   semi-furnished  \n",
      "3        furnished  \n",
      "4        furnished  \n"
     ]
    }
   ],
   "source": [
    "# Define the columns to convert\n",
    "columns_to_convert = ['mainroad', 'guestroom', 'basement', 'hotwaterheating', 'airconditioning', 'prefarea']\n",
    "\n",
    "# Apply the mapping\n",
    "df[columns_to_convert] = df[columns_to_convert].apply(lambda col: col.map({'yes': 1, 'no': 0}))\n",
    "\n",
    "print(df.head())\n"
   ]
  },
  {
   "cell_type": "code",
   "execution_count": 64,
   "metadata": {},
   "outputs": [
    {
     "name": "stdout",
     "output_type": "stream",
     "text": [
      "      price  area  bedrooms  bathrooms  stories  mainroad  guestroom  \\\n",
      "0  13300000  7420         4          2        3         1          0   \n",
      "1  12250000  8960         4          4        4         1          0   \n",
      "2  12250000  9960         3          2        2         1          0   \n",
      "3  12215000  7500         4          2        2         1          0   \n",
      "4  11410000  7420         4          1        2         1          1   \n",
      "\n",
      "   basement  hotwaterheating  airconditioning  parking  prefarea  \\\n",
      "0         0                0                1        2         1   \n",
      "1         0                0                1        3         0   \n",
      "2         1                0                0        2         1   \n",
      "3         1                0                1        3         1   \n",
      "4         1                0                1        2         0   \n",
      "\n",
      "  furnishingstatus  \n",
      "0        furnished  \n",
      "1        furnished  \n",
      "2   semi-furnished  \n",
      "3        furnished  \n",
      "4        furnished  \n"
     ]
    }
   ],
   "source": [
    "print(df.head())"
   ]
  },
  {
   "cell_type": "code",
   "execution_count": 65,
   "metadata": {},
   "outputs": [
    {
     "name": "stdout",
     "output_type": "stream",
     "text": [
      "      price  area  bedrooms  bathrooms  stories  mainroad  guestroom  \\\n",
      "0  13300000  7420         4          2        3         1          0   \n",
      "1  12250000  8960         4          4        4         1          0   \n",
      "2  12250000  9960         3          2        2         1          0   \n",
      "3  12215000  7500         4          2        2         1          0   \n",
      "4  11410000  7420         4          1        2         1          1   \n",
      "\n",
      "   basement  hotwaterheating  airconditioning  parking  prefarea  \\\n",
      "0         0                0                1        2         1   \n",
      "1         0                0                1        3         0   \n",
      "2         1                0                0        2         1   \n",
      "3         1                0                1        3         1   \n",
      "4         1                0                1        2         0   \n",
      "\n",
      "   furnishingstatus  \n",
      "0                 0  \n",
      "1                 0  \n",
      "2                 1  \n",
      "3                 0  \n",
      "4                 0  \n"
     ]
    }
   ],
   "source": [
    "df['furnishingstatus'] = df['furnishingstatus'].astype('category')\n",
    "df['furnishingstatus']= df['furnishingstatus'].cat.codes\n",
    "print(df.head())"
   ]
  }
 ],
 "metadata": {
  "kernelspec": {
   "display_name": "Python 3",
   "language": "python",
   "name": "python3"
  },
  "language_info": {
   "codemirror_mode": {
    "name": "ipython",
    "version": 3
   },
   "file_extension": ".py",
   "mimetype": "text/x-python",
   "name": "python",
   "nbconvert_exporter": "python",
   "pygments_lexer": "ipython3",
   "version": "3.10.10"
  }
 },
 "nbformat": 4,
 "nbformat_minor": 2
}
